{
 "cells": [
  {
   "cell_type": "code",
   "execution_count": 54,
   "metadata": {},
   "outputs": [],
   "source": [
    "\n",
    "import pandas as pd"
   ]
  },
  {
   "cell_type": "code",
   "execution_count": null,
   "metadata": {},
   "outputs": [],
   "source": [
    "# Read in the RAG dataset\n",
    "rag_df = pd.read_csv(\n",
    "    \"data/synthetic/standard/synthetic_standard_survey.standard_school_aggregate_scores_rag.0000000010000.csv\"\n",
    ")\n",
    "rag_df.head()\n"
   ]
  },
  {
   "cell_type": "code",
   "execution_count": null,
   "metadata": {},
   "outputs": [],
   "source": [
    "# Select relevant columns\n",
    "comparison_columns = [\n",
    "    \"variable\",\n",
    "    \"mean\",\n",
    "    \"rag\",\n",
    "    \"school_lab\",\n",
    "    \"year_group_lab\",\n",
    "    \"gender_lab\",\n",
    "    \"fsm_lab\",\n",
    "    \"sen_lab\",\n",
    "    \"group_wt_mean\",\n",
    "    \"group_wt_std\",\n",
    "    \"lower\",\n",
    "    \"upper\",\n",
    "]\n",
    "filtered_comparison_df = rag_df[comparison_columns]\n",
    "\n",
    "# Split rag_df for each topic \n",
    "\n",
    "# Create dictionary to store dfs for each topic\n",
    "topic_comparisons_df: dict[str, pd.DataFrame] = {}\n",
    "\n",
    "# Create a list of unique topics\n",
    "topics = filtered_comparison_df[\"variable\"].unique()\n",
    "\n",
    "# Iterate over each topic and create a df for \"All pupils\"\n",
    "for topic in topics:\n",
    "    topic_df = filtered_comparison_df[filtered_comparison_df[\"variable\"] == topic]\n",
    "    topic_comparisons_df[topic] = topic_df\n",
    "\n",
    "    # Create a df for \"All pupils\"\n",
    "    all_pupils_df = topic_df[\n",
    "        (topic_df[\"year_group_lab\"] == \"All\")\n",
    "        & (topic_df[\"gender_lab\"] == \"All\")\n",
    "        & (topic_df[\"fsm_lab\"] == \"All\")\n",
    "        & (topic_df[\"sen_lab\"] == \"All\")\n",
    "    ]\n",
    "    \n",
    "    # Store the df for \"All pupils\" in the dictionary\n",
    "    topic_comparisons_df[f\"{topic}_all_pupils\"] = all_pupils_df\n",
    " \n",
    "# To view the DataFrame for 'Autonomy' for \"All pupils\", all schools\n",
    "autonomy_all_pupils = topic_comparisons_df.get(\"autonomy_score_all_pupils\")\n",
    "# Display the first few rows of the DataFrame for 'School B'\n",
    "# print whole dataframe\n",
    "autonomy_all_pupils.head()"
   ]
  },
  {
   "cell_type": "code",
   "execution_count": 57,
   "metadata": {},
   "outputs": [],
   "source": [
    "# Print text: Your school had [n] complete responses. Across Northern Devon, there were [n] complete responses from [n] schools. The average score for the pupils at your school, compared to other schools in Northern Devon, was: [RAG]"
   ]
  }
 ],
 "metadata": {
  "kernelspec": {
   "display_name": ".venv",
   "language": "python",
   "name": "python3"
  },
  "language_info": {
   "codemirror_mode": {
    "name": "ipython",
    "version": 3
   },
   "file_extension": ".py",
   "mimetype": "text/x-python",
   "name": "python",
   "nbconvert_exporter": "python",
   "pygments_lexer": "ipython3",
   "version": "3.12.3"
  }
 },
 "nbformat": 4,
 "nbformat_minor": 2
}
