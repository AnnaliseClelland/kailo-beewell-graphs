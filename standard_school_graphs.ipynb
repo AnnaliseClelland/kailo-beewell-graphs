{
 "cells": [
  {
   "cell_type": "code",
   "execution_count": null,
   "metadata": {},
   "outputs": [],
   "source": [
    "# Directory of schools\n",
    "schools_csv_map = [\n",
    "    {\"school_1\": \"PILTON COMMUNITY COLLEGE\",\n",
    "     \"school_2\": \"GREAT TORRINGTON SCHOOL\",\n",
    "     \"school_3\": \"BRAUNTON SCHOOL AND C.C.\",\n",
    "     \"school_4\": \"HOLSWORTHY COMMUNITY COLLEGE\",\n",
    "     \"school_5\": \"THE ILFRACOMBE ACADEMY\"}\n",
    "]"
   ]
  },
  {
   "cell_type": "code",
   "execution_count": null,
   "metadata": {},
   "outputs": [],
   "source": [
    "# Read in and inspect data\n",
    "\n"
   ]
  },
  {
   "cell_type": "code",
   "execution_count": null,
   "metadata": {},
   "outputs": [],
   "source": [
    "# Make any changes required (e.g. handling missing data, dropping columns)"
   ]
  },
  {
   "cell_type": "code",
   "execution_count": null,
   "metadata": {},
   "outputs": [],
   "source": [
    "# Generate graph"
   ]
  },
  {
   "cell_type": "code",
   "execution_count": null,
   "metadata": {},
   "outputs": [],
   "source": [
    "# Save graph"
   ]
  }
 ],
 "metadata": {
  "language_info": {
   "name": "python"
  },
  "orig_nbformat": 4
 },
 "nbformat": 4,
 "nbformat_minor": 2
}
