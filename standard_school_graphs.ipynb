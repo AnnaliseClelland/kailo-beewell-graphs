{
 "cells": [
  {
   "cell_type": "code",
   "execution_count": null,
   "metadata": {},
   "outputs": [],
   "source": [
    "# Directory of schools\n",
    "schools_csv_map = [\n",
    "    {\"school_1\": \"PILTON COMMUNITY COLLEGE\",\n",
    "     \"school_2\": \"GREAT TORRINGTON SCHOOL\",\n",
    "     \"school_3\": \"BRAUNTON SCHOOL AND C.C.\",\n",
    "     \"school_4\": \"HOLSWORTHY COMMUNITY COLLEGE\",\n",
    "     \"school_5\": \"THE ILFRACOMBE ACADEMY\"}\n",
    "]"
   ]
  },
  {
   "cell_type": "code",
   "execution_count": null,
   "metadata": {},
   "outputs": [],
   "source": [
    "# Read in data\n",
    "\n"
   ]
  },
  {
   "cell_type": "code",
   "execution_count": null,
   "metadata": {},
   "outputs": [],
   "source": [
    "# Make any changes required (e.g. handling missing data, dropping columns), perform any validation steps"
   ]
  },
  {
   "cell_type": "code",
   "execution_count": null,
   "metadata": {},
   "outputs": [],
   "source": [
    "# Generate graphs\n",
    "\n",
    "# Section A graphs: summarise RAG ratings for all pupils as a table\n"
   ]
  },
  {
   "cell_type": "code",
   "execution_count": null,
   "metadata": {},
   "outputs": [],
   "source": [
    "# Section B graphs: for each topic, generate bar chart and comparison to other schools"
   ]
  },
  {
   "cell_type": "code",
   "execution_count": null,
   "metadata": {},
   "outputs": [],
   "source": [
    "# Section C graphs: who took part"
   ]
  },
  {
   "cell_type": "code",
   "execution_count": null,
   "metadata": {},
   "outputs": [],
   "source": [
    "# Save outputs \n",
    "\n",
    "save [tables, graphs...]"
   ]
  }
 ],
 "metadata": {
  "language_info": {
   "name": "python"
  },
  "orig_nbformat": 4
 },
 "nbformat": 4,
 "nbformat_minor": 2
}
