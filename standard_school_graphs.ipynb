{
 "cells": [
  {
   "cell_type": "code",
   "execution_count": 1,
   "metadata": {},
   "outputs": [],
   "source": [
    "import pandas as pd\n"
   ]
  },
  {
   "cell_type": "code",
   "execution_count": 2,
   "metadata": {},
   "outputs": [],
   "source": [
    "# Create a directory of schools\n",
    "schools_csv_map = [\n",
    "    {\"school_1\": \"PILTON COMMUNITY COLLEGE\",\n",
    "     \"school_2\": \"GREAT TORRINGTON SCHOOL\",\n",
    "     \"school_3\": \"BRAUNTON SCHOOL AND C.C.\",\n",
    "     \"school_4\": \"HOLSWORTHY COMMUNITY COLLEGE\",\n",
    "     \"school_5\": \"THE ILFRACOMBE ACADEMY\"}\n",
    "]"
   ]
  },
  {
   "cell_type": "code",
   "execution_count": 10,
   "metadata": {},
   "outputs": [
    {
     "name": "stdout",
     "output_type": "stream",
     "text": [
      "                    cat                                            cat_lab  \\\n",
      "0  [1, 2, 3, 4, 5, nan]  ['1 - Completely not true', '2', '3', '4', '5 ...   \n",
      "1  [1, 2, 3, 4, 5, nan]  ['1 - Completely not true', '2', '3', '4', '5 ...   \n",
      "2  [1, 2, 3, 4, 5, nan]  ['1 - Completely not true', '2', '3', '4', '5 ...   \n",
      "3  [1, 2, 3, 4, 5, nan]  ['1 - Completely not true', '2', '3', '4', '5 ...   \n",
      "4  [1, 2, 3, 4, 5, nan]  ['1 - Completely not true', '2', '3', '4', '5 ...   \n",
      "\n",
      "                      count  \\\n",
      "0  [20, 27, 22, 21, 22, 16]   \n",
      "1   [26, 29, 21, 23, 26, 3]   \n",
      "2  [23, 23, 17, 32, 20, 13]   \n",
      "3   [26, 24, 15, 30, 24, 9]   \n",
      "4  [31, 22, 22, 19, 21, 13]   \n",
      "\n",
      "                                          percentage            measure  \\\n",
      "0  [15.625, 21.09375, 17.1875, 16.40625, 17.1875,...  autonomy_pressure   \n",
      "1  [20.3125, 22.65625, 16.40625, 17.96875, 20.312...   autonomy_express   \n",
      "2  [17.96875, 17.96875, 13.28125, 25.0, 15.625, 1...    autonomy_decide   \n",
      "3  [20.3125, 18.75, 11.71875, 23.4375, 18.75, 7.0...      autonomy_told   \n",
      "4  [24.21875, 17.1875, 17.1875, 14.84375, 16.4062...    autonomy_myself   \n",
      "\n",
      "  n_responses school_lab year_group_lab gender_lab fsm_lab sen_lab     group  \\\n",
      "0         128   School A            All        All     All     All  autonomy   \n",
      "1         128   School A            All        All     All     All  autonomy   \n",
      "2         128   School A            All        All     All     All  autonomy   \n",
      "3         128   School A            All        All     All     All  autonomy   \n",
      "4         128   School A            All        All     All     All  autonomy   \n",
      "\n",
      "                                         measure_lab  \n",
      "0                      \\nI feel pressured in my life  \n",
      "1  \\nI generally feel free to express my ideas an...  \n",
      "2  \\nI feel like I am free to decide for myself h...  \n",
      "3  \\nIn my daily life I often have to do what I a...  \n",
      "4  \\nI feel I can pretty much be myself in daily ...  \n"
     ]
    }
   ],
   "source": [
    "# Read in data\n",
    "data = pd.read_csv(\n",
    "    \"data/synthetic/standard/synthetic_standard_survey.standard_school_aggregate_responses.0000000010000.csv\"\n",
    ")\n",
    "\n",
    "print (data.head())\n",
    "\n"
   ]
  },
  {
   "cell_type": "code",
   "execution_count": null,
   "metadata": {},
   "outputs": [],
   "source": [
    "# Make any changes required (e.g. handling missing data, dropping columns), perform any validation steps"
   ]
  },
  {
   "cell_type": "code",
   "execution_count": null,
   "metadata": {},
   "outputs": [],
   "source": [
    "# Create summary tables\n",
    "\n",
    "# Section A: summarise RAG ratings for all pupils as a table (only for standard survey)\n",
    "\n",
    "# Extract counts\n",
    "counts = data[\"counts_column_name\"]\n",
    "\n",
    "# School name \n",
    "\n",
    "# Chosen group\n",
    "\n",
    "# Create summary table \n",
    "table = summary_table(data, chosen_group, school)\n"
   ]
  },
  {
   "cell_type": "code",
   "execution_count": null,
   "metadata": {},
   "outputs": [],
   "source": [
    "# Section B graphs: for each topic, generate bar chart and comparison to other schools"
   ]
  },
  {
   "cell_type": "code",
   "execution_count": null,
   "metadata": {},
   "outputs": [],
   "source": [
    "# Section C graphs: who took part"
   ]
  },
  {
   "cell_type": "code",
   "execution_count": null,
   "metadata": {},
   "outputs": [],
   "source": [
    "# Save outputs "
   ]
  }
 ],
 "metadata": {
  "kernelspec": {
   "display_name": ".venv",
   "language": "python",
   "name": "python3"
  },
  "language_info": {
   "codemirror_mode": {
    "name": "ipython",
    "version": 3
   },
   "file_extension": ".py",
   "mimetype": "text/x-python",
   "name": "python",
   "nbconvert_exporter": "python",
   "pygments_lexer": "ipython3",
   "version": "3.12.3"
  },
  "orig_nbformat": 4
 },
 "nbformat": 4,
 "nbformat_minor": 2
}
