{
 "cells": [
  {
   "cell_type": "code",
   "execution_count": null,
   "metadata": {},
   "outputs": [],
   "source": [
    "# Read in data\n",
    "master_df = pd.read_csv(\n",
    "    \"data/synthetic/standard/clean_synthetic_standard_survey.standard_school_aggregate_responses.0000000010000.csv\",\n",
    "    encoding=\"utf-8\",\n",
    "    encoding_errors=\"ignore\",\n",
    "    on_bad_lines=\"skip\",\n",
    ")\n",
    "\n",
    "make_all_graphs(master_df)\n"
   ]
  }
 ],
 "metadata": {
  "language_info": {
   "name": "python"
  }
 },
 "nbformat": 4,
 "nbformat_minor": 2
}
