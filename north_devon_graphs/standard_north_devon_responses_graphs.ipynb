{
 "cells": [
  {
   "cell_type": "code",
   "execution_count": null,
   "metadata": {},
   "outputs": [],
   "source": [
    "from typing import Literal\n",
    "import pandas as pd\n",
    "import ast\n",
    "import matplotlib.pyplot as plt\n",
    "import os\n",
    "import math\n",
    "import re\n",
    "import csv\n",
    "import io\n",
    "\n",
    "\n",
    "# Read in data\n",
    "master_df = pd.read_csv(\n",
    "    \"data/synthetic/public/standard_nd_aggregate_responses.csv\",\n",
    "    encoding=\"utf-8\",\n",
    "    encoding_errors=\"ignore\",\n",
    "    on_bad_lines=\"skip\",\n",
    ")\n",
    "\n",
    "make_all_graphs(master_df)\n"
   ]
  }
 ],
 "metadata": {
  "language_info": {
   "name": "python"
  }
 },
 "nbformat": 4,
 "nbformat_minor": 2
}
